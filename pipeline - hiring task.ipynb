{
 "cells": [
  {
   "cell_type": "markdown",
   "id": "b27041a4",
   "metadata": {},
   "source": [
    "## Classification model to recognize texts\n",
    "\n",
    "The objective of this notebook is to create a text classification model capable of identifying texts related to cybersecurity, environmental issues, and other categories"
   ]
  },
  {
   "cell_type": "code",
   "execution_count": 1,
   "id": "a5263f8a",
   "metadata": {},
   "outputs": [],
   "source": [
    "# Basic packages\n",
    "import pandas as pd\n",
    "pd.set_option(\"display.max_rows\", None, \"display.max_columns\", None)\n",
    "import matplotlib.pyplot as plt\n",
    "import seaborn as sns\n",
    "import numpy as np\n",
    "\n",
    "# preprocessing packages\n",
    "import nltk\n",
    "from nltk.corpus import stopwords\n",
    "from nltk.stem import WordNetLemmatizer\n",
    "from sklearn.feature_extraction.text import TfidfVectorizer\n",
    "from sklearn.model_selection import train_test_split\n",
    "from sklearn.preprocessing import MultiLabelBinarizer\n",
    "from tensorflow.keras.preprocessing.text import Tokenizer\n",
    "from tensorflow.keras.preprocessing.sequence import pad_sequences\n",
    "\n",
    "# building models packages\n",
    "from sklearn.linear_model import LogisticRegression\n",
    "from tensorflow.keras.models import Sequential\n",
    "from sklearn.multioutput import MultiOutputClassifier\n",
    "from keras.layers import Embedding, Conv1D, MaxPooling1D, Dense, Flatten, Dropout\n",
    "from keras import regularizers\n",
    "from keras.optimizers.legacy import Adam\n",
    "from sklearn.metrics import classification_report, confusion_matrix, accuracy_score, log_loss, precision_score, recall_score, f1_score\n",
    "from keras.callbacks import EarlyStopping\n",
    "from sklearn.ensemble import RandomForestClassifier"
   ]
  },
  {
   "cell_type": "markdown",
   "id": "a36303e6",
   "metadata": {},
   "source": [
    "### Exploratory data analysis\n",
    "The objective of this EDA is to gain insights and a deeper understanding of the provided dataset. "
   ]
  },
  {
   "cell_type": "code",
   "execution_count": 2,
   "id": "b644ff9b",
   "metadata": {},
   "outputs": [],
   "source": [
    "# Loading the training data\n",
    "train_data = pd.read_csv('train.csv', index_col=[0])"
   ]
  },
  {
   "cell_type": "code",
   "execution_count": 3,
   "id": "3b3dc68c",
   "metadata": {},
   "outputs": [
    {
     "data": {
      "text/html": [
       "<div>\n",
       "<style scoped>\n",
       "    .dataframe tbody tr th:only-of-type {\n",
       "        vertical-align: middle;\n",
       "    }\n",
       "\n",
       "    .dataframe tbody tr th {\n",
       "        vertical-align: top;\n",
       "    }\n",
       "\n",
       "    .dataframe thead th {\n",
       "        text-align: right;\n",
       "    }\n",
       "</style>\n",
       "<table border=\"1\" class=\"dataframe\">\n",
       "  <thead>\n",
       "    <tr style=\"text-align: right;\">\n",
       "      <th></th>\n",
       "      <th>content</th>\n",
       "      <th>cyber_label</th>\n",
       "      <th>environmental_issue</th>\n",
       "    </tr>\n",
       "  </thead>\n",
       "  <tbody>\n",
       "    <tr>\n",
       "      <th>0</th>\n",
       "      <td>All rights reserved. MA23-16258 988982046\\n\\nh...</td>\n",
       "      <td>NaN</td>\n",
       "      <td>0</td>\n",
       "    </tr>\n",
       "    <tr>\n",
       "      <th>1</th>\n",
       "      <td>Revisiting our purpose and/or values statement...</td>\n",
       "      <td>NaN</td>\n",
       "      <td>0</td>\n",
       "    </tr>\n",
       "    <tr>\n",
       "      <th>2</th>\n",
       "      <td>Amid ongoing strategic competition in a\\nmulti...</td>\n",
       "      <td>NaN</td>\n",
       "      <td>0</td>\n",
       "    </tr>\n",
       "    <tr>\n",
       "      <th>3</th>\n",
       "      <td>Source: PwC Pulse Survey, November 2, 2022: ba...</td>\n",
       "      <td>NaN</td>\n",
       "      <td>0</td>\n",
       "    </tr>\n",
       "    <tr>\n",
       "      <th>4</th>\n",
       "      <td>Executive Summary 2\f",
       "\\nAgeing and\\nHealth Conce...</td>\n",
       "      <td>NaN</td>\n",
       "      <td>1</td>\n",
       "    </tr>\n",
       "  </tbody>\n",
       "</table>\n",
       "</div>"
      ],
      "text/plain": [
       "                                             content  cyber_label  \\\n",
       "0  All rights reserved. MA23-16258 988982046\\n\\nh...          NaN   \n",
       "1  Revisiting our purpose and/or values statement...          NaN   \n",
       "2  Amid ongoing strategic competition in a\\nmulti...          NaN   \n",
       "3  Source: PwC Pulse Survey, November 2, 2022: ba...          NaN   \n",
       "4  Executive Summary 2\n",
       "\\nAgeing and\\nHealth Conce...          NaN   \n",
       "\n",
       "   environmental_issue  \n",
       "0                    0  \n",
       "1                    0  \n",
       "2                    0  \n",
       "3                    0  \n",
       "4                    1  "
      ]
     },
     "execution_count": 3,
     "metadata": {},
     "output_type": "execute_result"
    }
   ],
   "source": [
    "# Displaying the first few rows of the training dataset\n",
    "train_data.head()"
   ]
  },
  {
   "cell_type": "code",
   "execution_count": 4,
   "id": "11cac4d4",
   "metadata": {},
   "outputs": [
    {
     "name": "stdout",
     "output_type": "stream",
     "text": [
      "<class 'pandas.core.frame.DataFrame'>\n",
      "Index: 1300 entries, 0 to 1299\n",
      "Data columns (total 3 columns):\n",
      " #   Column               Non-Null Count  Dtype  \n",
      "---  ------               --------------  -----  \n",
      " 0   content              1300 non-null   object \n",
      " 1   cyber_label          127 non-null    float64\n",
      " 2   environmental_issue  1300 non-null   int64  \n",
      "dtypes: float64(1), int64(1), object(1)\n",
      "memory usage: 40.6+ KB\n",
      "None\n"
     ]
    }
   ],
   "source": [
    "# Checking basic information about the data\n",
    "print(train_data.info())"
   ]
  },
  {
   "cell_type": "code",
   "execution_count": 5,
   "id": "ddd7148b",
   "metadata": {},
   "outputs": [
    {
     "name": "stdout",
     "output_type": "stream",
     "text": [
      "Unique values in 'cyber_label': [nan  1.]\n",
      "Unique values in 'environmental_issue': [0 1]\n"
     ]
    }
   ],
   "source": [
    "# Counting unique values in the 'cyber_label' and 'environmental_issue' columns\n",
    "print(\"Unique values in 'cyber_label':\", train_data['cyber_label'].unique())\n",
    "print(\"Unique values in 'environmental_issue':\", train_data['environmental_issue'].unique())"
   ]
  },
  {
   "cell_type": "code",
   "execution_count": 6,
   "id": "11f702ef",
   "metadata": {
    "scrolled": true
   },
   "outputs": [
    {
     "name": "stderr",
     "output_type": "stream",
     "text": [
      "/Users/claesia/hiring_task_env/lib/python3.9/site-packages/seaborn/_oldcore.py:1498: FutureWarning: is_categorical_dtype is deprecated and will be removed in a future version. Use isinstance(dtype, CategoricalDtype) instead\n",
      "  if pd.api.types.is_categorical_dtype(vector):\n",
      "/Users/claesia/hiring_task_env/lib/python3.9/site-packages/seaborn/_oldcore.py:1498: FutureWarning: is_categorical_dtype is deprecated and will be removed in a future version. Use isinstance(dtype, CategoricalDtype) instead\n",
      "  if pd.api.types.is_categorical_dtype(vector):\n",
      "/Users/claesia/hiring_task_env/lib/python3.9/site-packages/seaborn/_oldcore.py:1498: FutureWarning: is_categorical_dtype is deprecated and will be removed in a future version. Use isinstance(dtype, CategoricalDtype) instead\n",
      "  if pd.api.types.is_categorical_dtype(vector):\n"
     ]
    },
    {
     "data": {
      "image/png": "[encoded data removed]",
      "text/plain": [
       "<Figure size 640x480 with 1 Axes>"
      ]
     },
     "metadata": {},
     "output_type": "display_data"
    },
    {
     "name": "stderr",
     "output_type": "stream",
     "text": [
      "/Users/claesia/hiring_task_env/lib/python3.9/site-packages/seaborn/_oldcore.py:1498: FutureWarning: is_categorical_dtype is deprecated and will be removed in a future version. Use isinstance(dtype, CategoricalDtype) instead\n",
      "  if pd.api.types.is_categorical_dtype(vector):\n",
      "/Users/claesia/hiring_task_env/lib/python3.9/site-packages/seaborn/_oldcore.py:1498: FutureWarning: is_categorical_dtype is deprecated and will be removed in a future version. Use isinstance(dtype, CategoricalDtype) instead\n",
      "  if pd.api.types.is_categorical_dtype(vector):\n",
      "/Users/claesia/hiring_task_env/lib/python3.9/site-packages/seaborn/_oldcore.py:1498: FutureWarning: is_categorical_dtype is deprecated and will be removed in a future version. Use isinstance(dtype, CategoricalDtype) instead\n",
      "  if pd.api.types.is_categorical_dtype(vector):\n"
     ]
    },
    {
     "data": {
      "image/png": "[encoded data removed]",
      "text/plain": [
       "<Figure size 640x480 with 1 Axes>"
      ]
     },
     "metadata": {},
     "output_type": "display_data"
    }
   ],
   "source": [
    "# Checking the class balance\n",
    "sns.countplot(x='cyber_label', data=train_data)\n",
    "plt.title('Class Distribution in cyber_label')\n",
    "plt.show()\n",
    "\n",
    "sns.countplot(x='environmental_issue', data=train_data)\n",
    "plt.title('Class Distribution in environmental_issue')\n",
    "plt.show()"
   ]
  },
  {
   "cell_type": "code",
   "execution_count": 7,
   "id": "fa4d154f",
   "metadata": {},
   "outputs": [],
   "source": [
    "# dealing with Null values\n",
    "# Filling missing values with 0 in the 'cyber_label' column, and converting type\n",
    "train_data['cyber_label'].fillna(0, inplace=True)\n",
    "train_data['cyber_label'] = train_data['cyber_label'].astype(int)"
   ]
  },
  {
   "cell_type": "code",
   "execution_count": 8,
   "id": "180300e9",
   "metadata": {},
   "outputs": [
    {
     "name": "stderr",
     "output_type": "stream",
     "text": [
      "/Users/claesia/hiring_task_env/lib/python3.9/site-packages/seaborn/_oldcore.py:1498: FutureWarning: is_categorical_dtype is deprecated and will be removed in a future version. Use isinstance(dtype, CategoricalDtype) instead\n",
      "  if pd.api.types.is_categorical_dtype(vector):\n",
      "/Users/claesia/hiring_task_env/lib/python3.9/site-packages/seaborn/_oldcore.py:1498: FutureWarning: is_categorical_dtype is deprecated and will be removed in a future version. Use isinstance(dtype, CategoricalDtype) instead\n",
      "  if pd.api.types.is_categorical_dtype(vector):\n",
      "/Users/claesia/hiring_task_env/lib/python3.9/site-packages/seaborn/_oldcore.py:1498: FutureWarning: is_categorical_dtype is deprecated and will be removed in a future version. Use isinstance(dtype, CategoricalDtype) instead\n",
      "  if pd.api.types.is_categorical_dtype(vector):\n"
     ]
    },
    {
     "data": {
      "image/png": "[encoded data removed]",
      "text/plain": [
       "<Figure size 640x480 with 1 Axes>"
      ]
     },
     "metadata": {},
     "output_type": "display_data"
    },
    {
     "name": "stderr",
     "output_type": "stream",
     "text": [
      "/Users/claesia/hiring_task_env/lib/python3.9/site-packages/seaborn/_oldcore.py:1498: FutureWarning: is_categorical_dtype is deprecated and will be removed in a future version. Use isinstance(dtype, CategoricalDtype) instead\n",
      "  if pd.api.types.is_categorical_dtype(vector):\n",
      "/Users/claesia/hiring_task_env/lib/python3.9/site-packages/seaborn/_oldcore.py:1498: FutureWarning: is_categorical_dtype is deprecated and will be removed in a future version. Use isinstance(dtype, CategoricalDtype) instead\n",
      "  if pd.api.types.is_categorical_dtype(vector):\n",
      "/Users/claesia/hiring_task_env/lib/python3.9/site-packages/seaborn/_oldcore.py:1498: FutureWarning: is_categorical_dtype is deprecated and will be removed in a future version. Use isinstance(dtype, CategoricalDtype) instead\n",
      "  if pd.api.types.is_categorical_dtype(vector):\n"
     ]
    },
    {
     "data": {
      "image/png": "[encoded data removed]",
      "text/plain": [
       "<Figure size 640x480 with 1 Axes>"
      ]
     },
     "metadata": {},
     "output_type": "display_data"
    }
   ],
   "source": [
    "# Checking the class balance\n",
    "sns.countplot(x='cyber_label', data=train_data)\n",
    "plt.title('Class Distribution in cyber_label')\n",
    "plt.show()\n",
    "\n",
    "sns.countplot(x='environmental_issue', data=train_data)\n",
    "plt.title('Class Distribution in environmental_issue')\n",
    "plt.show()"
   ]
  },
  {
   "cell_type": "code",
   "execution_count": 9,
   "id": "acb0c882",
   "metadata": {},
   "outputs": [
    {
     "name": "stdout",
     "output_type": "stream",
     "text": [
      "The text is classified as both labels 35 times.\n"
     ]
    }
   ],
   "source": [
    "# Count how many times a text is classified as both labels\n",
    "count_both_labels = train_data[(train_data['cyber_label'] == 1) & (train_data['environmental_issue'] == 1)].shape[0]\n",
    "print(f'The text is classified as both labels {count_both_labels} times.')"
   ]
  },
  {
   "cell_type": "code",
   "execution_count": 10,
   "id": "34c01b80",
   "metadata": {},
   "outputs": [
    {
     "name": "stdout",
     "output_type": "stream",
     "text": [
      "The text is not classified as either label in 924 instances.\n"
     ]
    }
   ],
   "source": [
    "# Count how many times a text is not classified as either label\n",
    "count_neither_label = train_data[(train_data['cyber_label'] == 0) & (train_data['environmental_issue'] == 0)].shape[0]\n",
    "\n",
    "print(f'The text is not classified as either label in {count_neither_label} instances.')"
   ]
  },
  {
   "cell_type": "code",
   "execution_count": 11,
   "id": "27f0f526",
   "metadata": {},
   "outputs": [
    {
     "name": "stdout",
     "output_type": "stream",
     "text": [
      "count                                                  1300\n",
      "unique                                                 1298\n",
      "top       \\n\\n\\n\\n\\n\\n\\n\\n\\n\\n\\n\\n\\n\\n\\n\\n\\n\\n\\n\\n\\n\\n\\n...\n",
      "freq                                                      2\n",
      "Name: content, dtype: object\n"
     ]
    }
   ],
   "source": [
    "# Descriptive statistics for the 'content' column\n",
    "print(train_data['content'].describe())"
   ]
  },
  {
   "cell_type": "code",
   "execution_count": 12,
   "id": "6caf039e",
   "metadata": {},
   "outputs": [
    {
     "name": "stdout",
     "output_type": "stream",
     "text": [
      "count    1300.000000\n",
      "mean     1201.832308\n",
      "std       541.531061\n",
      "min         1.000000\n",
      "25%      1050.500000\n",
      "50%      1204.000000\n",
      "75%      1318.250000\n",
      "max      6857.000000\n",
      "Name: content_length, dtype: float64\n"
     ]
    }
   ],
   "source": [
    "# Average text length\n",
    "train_data['content_length'] = train_data['content'].apply(len)\n",
    "print(train_data['content_length'].describe())"
   ]
  },
  {
   "cell_type": "code",
   "execution_count": 13,
   "id": "d9db525b",
   "metadata": {},
   "outputs": [
    {
     "name": "stderr",
     "output_type": "stream",
     "text": [
      "/Users/claesia/hiring_task_env/lib/python3.9/site-packages/seaborn/_oldcore.py:1498: FutureWarning: is_categorical_dtype is deprecated and will be removed in a future version. Use isinstance(dtype, CategoricalDtype) instead\n",
      "  if pd.api.types.is_categorical_dtype(vector):\n",
      "/Users/claesia/hiring_task_env/lib/python3.9/site-packages/seaborn/_oldcore.py:1119: FutureWarning: use_inf_as_na option is deprecated and will be removed in a future version. Convert inf values to NaN before operating instead.\n",
      "  with pd.option_context('mode.use_inf_as_na', True):\n"
     ]
    },
    {
     "data": {
      "image/png": "[encoded data removed]",
      "text/plain": [
       "<Figure size 800x600 with 1 Axes>"
      ]
     },
     "metadata": {},
     "output_type": "display_data"
    }
   ],
   "source": [
    "# Histogram of text lengths\n",
    "plt.figure(figsize=(8, 6))\n",
    "sns.histplot(train_data['content_length'], bins=30)\n",
    "plt.title('Distribution of Text Lengths')\n",
    "plt.xlabel('Text Length')\n",
    "plt.show()"
   ]
  },
  {
   "cell_type": "markdown",
   "id": "3dcf9b97",
   "metadata": {},
   "source": [
    "### Data Preprocessing\n",
    "The objective of this data preprocessing phase is to prepare the text data for subsequent analysis and modeling. \n",
    "\n",
    "Steps done:\n",
    "- Stopwords and non-alphanumeric characters were removed, and performed lemmatization\n",
    "- MultiLabelBinarizer is being used to encode the multi-label tags (cyber_label and environmental_issue). It converts the labels into a format that can be used to train and evaluate multi-label classification models.\n",
    "- TF-IDF (Term Frequency-Inverse Document Frequency) vectorization transforms the text into numerical representations that can be used by the model.\n",
    "- Tokenizer is used the to convert the texts into sequences of numbers (tokens), this allows the model to efficiently work with text by representing it as numerical sequences\n",
    "- Pad_sequences to ensure that all sequences have the same length."
   ]
  },
  {
   "cell_type": "code",
   "execution_count": 14,
   "id": "2d5fae85",
   "metadata": {},
   "outputs": [
    {
     "name": "stderr",
     "output_type": "stream",
     "text": [
      "[nltk_data] Downloading package stopwords to\n",
      "[nltk_data]     /Users/claesia/nltk_data...\n",
      "[nltk_data]   Package stopwords is already up-to-date!\n"
     ]
    }
   ],
   "source": [
    "# Initialize the lemmatizer object\n",
    "lemmatizer = WordNetLemmatizer()\n",
    "\n",
    "# Download NLTK stopwords\n",
    "nltk.download('stopwords')\n",
    "stop_words = set(stopwords.words('english'))"
   ]
  },
  {
   "cell_type": "code",
   "execution_count": 15,
   "id": "0a849589",
   "metadata": {},
   "outputs": [],
   "source": [
    "# Text preprocessing function\n",
    "def preprocess_text(text):\n",
    "    # Tokenization\n",
    "    tokens = nltk.word_tokenize(text)\n",
    "    \n",
    "    # Stopwords removal and lemmatization\n",
    "    tokens = [lemmatizer.lemmatize(token.lower()) for token in tokens if token.lower() not in stop_words and token.isalnum()]\n",
    "    \n",
    "    # Reconstruct the text from tokens\n",
    "    return ' '.join(tokens)"
   ]
  },
  {
   "cell_type": "code",
   "execution_count": 16,
   "id": "25bfd992",
   "metadata": {},
   "outputs": [],
   "source": [
    "# Apply preprocessing to the content\n",
    "train_data['content_preprocessed'] = train_data['content'].apply(preprocess_text)"
   ]
  },
  {
   "cell_type": "code",
   "execution_count": 17,
   "id": "65c50daf",
   "metadata": {},
   "outputs": [],
   "source": [
    "# Encoding labels\n",
    "mlb = MultiLabelBinarizer()\n",
    "encoded_labels = mlb.fit_transform(train_data[['cyber_label', 'environmental_issue']].values)"
   ]
  },
  {
   "cell_type": "code",
   "execution_count": 18,
   "id": "ea929d58",
   "metadata": {},
   "outputs": [],
   "source": [
    "maxlen = int(train_data['content_preprocessed'].apply(len).describe().max())"
   ]
  },
  {
   "cell_type": "code",
   "execution_count": 19,
   "id": "15f4e530",
   "metadata": {},
   "outputs": [],
   "source": [
    "# TF-IDF vectorization of text data\n",
    "tfidf_vectorizer = TfidfVectorizer(max_features=5000) # Keep the max_features\n",
    "tfidf_data = tfidf_vectorizer.fit_transform(train_data['content_preprocessed'])"
   ]
  },
  {
   "cell_type": "code",
   "execution_count": 20,
   "id": "0eb81270",
   "metadata": {},
   "outputs": [],
   "source": [
    "# Tokenization and padding for CNN model\n",
    "tokenizer = Tokenizer(num_words=5000)  # Keep the same max_features as TF-IDF\n",
    "tokenizer.fit_on_texts(train_data['content_preprocessed'])\n",
    "X_train_cnn = tokenizer.texts_to_sequences(train_data['content_preprocessed'])\n",
    "X_train_cnn = pad_sequences(X_train_cnn, maxlen=maxlen)"
   ]
  },
  {
   "cell_type": "markdown",
   "id": "bd9c2b6d",
   "metadata": {},
   "source": [
    "### Model Building and Training\n",
    "\n",
    "As analized during the EAD, a text can be classified in more than a label. So the best approach to deal with it is using multi-label classification models.\n",
    "\n",
    "Below are the models used and the reason for their choice.\n",
    "\n",
    "- Logistic Regression: Logistic Regression is a common choice for binary classification problems and can also be extended to multi-label classification tasks.\n",
    "- RandomForest: it is known for its robustness and ability to handle imbalanced data, which is common in multilabel classification tasks where some classes may have fewer samples than others.\n",
    "- CNN: can be applied to text processing, especially for detecting local patterns in sequences of words\n",
    "\n",
    "##### To able to implement Logistic Regression and RandomForest for this task the MultiOutputClassifier is applied, it is used in multi-label classification tasks when you want to extend a binary classifier to predict multiple labels simultaneously. It simplifies model training, maintains the original model's structure, and ensures correct label correlations."
   ]
  },
  {
   "cell_type": "markdown",
   "id": "a7f5d8bb",
   "metadata": {},
   "source": [
    "#### Using LogisticRegression and RandomForest"
   ]
  },
  {
   "cell_type": "code",
   "execution_count": 21,
   "id": "da5da514",
   "metadata": {},
   "outputs": [],
   "source": [
    "# Splitting into training (70%), validation (15%), and test (15%)\n",
    "X_train, X_temp, y_train, y_temp = train_test_split(tfidf_data, encoded_labels, test_size=0.3, random_state=42)\n",
    "X_val, X_test, y_val, y_test = train_test_split(X_temp, y_temp, test_size=0.5, random_state=42)"
   ]
  },
  {
   "cell_type": "code",
   "execution_count": 22,
   "id": "789df1f7",
   "metadata": {},
   "outputs": [],
   "source": [
    "# As noticed during the EDA, the dataset is unbalanced, class_weight='balanced'\n",
    "\n",
    "# Create a MultiOutputClassifier with Logistic Regression as the base classifier\n",
    "logistic_r_classifier = MultiOutputClassifier(LogisticRegression(class_weight='balanced'))\n",
    "\n",
    "# Create a MultiOutputClassifier with Random Forest as the base classifier\n",
    "random_f_classifier = MultiOutputClassifier(RandomForestClassifier(class_weight='balanced', n_estimators=100, random_state=42))\n",
    "\n",
    "# Train the model\n",
    "random_f_history = random_f_classifier.fit(X_train, y_train)\n",
    "logistic_history = logistic_r_classifier.fit(X_train, y_train)"
   ]
  },
  {
   "cell_type": "code",
   "execution_count": 23,
   "id": "4b57d691",
   "metadata": {},
   "outputs": [
    {
     "name": "stdout",
     "output_type": "stream",
     "text": [
      "[[   0  669]\n",
      " [   1 1151]]\n"
     ]
    }
   ],
   "source": [
    "unique, counts = np.unique(y_train, return_counts=True)\n",
    "\n",
    "# Print the frequencies\n",
    "print(np.asarray((unique, counts)).T)"
   ]
  },
  {
   "cell_type": "markdown",
   "id": "3ac67c2c",
   "metadata": {},
   "source": [
    "#### Using CNN"
   ]
  },
  {
   "cell_type": "code",
   "execution_count": 24,
   "id": "bff5f462",
   "metadata": {},
   "outputs": [],
   "source": [
    "class Network:\n",
    "    \"\"\"\n",
    "    This class represents a neural network for binary multilabel classification.\n",
    "\n",
    "    Parameters\n",
    "    ----------\n",
    "    model : str, optional (default='cnn')\n",
    "        The type of neural network model to use.\n",
    "    max_words : int, optional (default=5000)\n",
    "        The maximum number of words in the vocabulary.\n",
    "    max_sequence_length : int, optional (default=100)\n",
    "        The maximum length of input sequences.\n",
    "\n",
    "    Methods\n",
    "    -------\n",
    "    create_model()\n",
    "        Creates the neural network model based on the specified configuration.\n",
    "    \"\"\"\n",
    "    \n",
    "    def __init__(self, model = 'cnn', max_words=5000, max_sequence_length=100):\n",
    "        self.model_type = model\n",
    "        self.max_words = max_words\n",
    "        self.max_sequence_length = max_sequence_length\n",
    "\n",
    "        def create_model(self):\n",
    "            \"\"\"\n",
    "            Create a neural network model for binary multilabel classification.\n",
    "\n",
    "            Returns\n",
    "            -------\n",
    "            model : keras.models.Sequential\n",
    "                The compiled Keras model.\n",
    "            \"\"\"\n",
    "            model = Sequential()\n",
    "            model.add(Embedding(self.max_words, 128, input_length=self.max_sequence_length))\n",
    "            model.add(Conv1D(64, 3, activation='relu', kernel_regularizer=regularizers.l2(0.01)))\n",
    "            model.add(MaxPooling1D(3))\n",
    "            model.add(Flatten())\n",
    "            model.add(Dense(64, activation='relu'))\n",
    "            model.add(Dropout(0.8))\n",
    "            model.add(Dense(2, activation='sigmoid'))  # Two output nodes for two labels\n",
    "            return model\n",
    "        \n",
    "        self.model = create_model(self, )\n",
    "        opt = Adam(learning_rate=0.001, decay=1e-6)\n",
    "        self.model.compile(optimizer=opt, loss='binary_crossentropy', metrics=['accuracy'])"
   ]
  },
  {
   "cell_type": "markdown",
   "id": "a9662bd6",
   "metadata": {},
   "source": [
    "#### Splitting the data"
   ]
  },
  {
   "cell_type": "code",
   "execution_count": 25,
   "id": "e24d93a6",
   "metadata": {},
   "outputs": [],
   "source": [
    "# Splitting into training (70%), validation (15%), and test (15%)\n",
    "X_train_cnn, X_temp, y_train_cnn, y_temp = train_test_split(X_train_cnn, encoded_labels, test_size=0.3, random_state=42)\n",
    "X_val_cnn, X_test_cnn, y_val_cnn, y_test_cnn = train_test_split(X_temp, y_temp, test_size=0.5, random_state=42)"
   ]
  },
  {
   "cell_type": "code",
   "execution_count": 26,
   "id": "0728ffee",
   "metadata": {},
   "outputs": [],
   "source": [
    "from  sklearn.utils.class_weight import compute_class_weight\n",
    "class_weights = dict(enumerate(compute_class_weight('balanced', classes = np.unique(train_data[['cyber_label', 'environmental_issue']]), y = np.ravel(train_data[['cyber_label', 'environmental_issue']].values))))"
   ]
  },
  {
   "cell_type": "markdown",
   "id": "9fa07364",
   "metadata": {},
   "source": [
    "#### Create and train the model"
   ]
  },
  {
   "cell_type": "code",
   "execution_count": 27,
   "id": "fbc2502d",
   "metadata": {},
   "outputs": [
    {
     "name": "stdout",
     "output_type": "stream",
     "text": [
      "Model: \"sequential\"\n",
      "_________________________________________________________________\n",
      " Layer (type)                Output Shape              Param #   \n",
      "=================================================================\n",
      " embedding (Embedding)       (None, 4775, 128)         640000    \n",
      "                                                                 \n",
      " conv1d (Conv1D)             (None, 4773, 64)          24640     \n",
      "                                                                 \n",
      " max_pooling1d (MaxPooling1  (None, 1591, 64)          0         \n",
      " D)                                                              \n",
      "                                                                 \n",
      " flatten (Flatten)           (None, 101824)            0         \n",
      "                                                                 \n",
      " dense (Dense)               (None, 64)                6516800   \n",
      "                                                                 \n",
      " dropout (Dropout)           (None, 64)                0         \n",
      "                                                                 \n",
      " dense_1 (Dense)             (None, 2)                 130       \n",
      "                                                                 \n",
      "=================================================================\n",
      "Total params: 7181570 (27.40 MB)\n",
      "Trainable params: 7181570 (27.40 MB)\n",
      "Non-trainable params: 0 (0.00 Byte)\n",
      "_________________________________________________________________\n",
      "None\n"
     ]
    },
    {
     "name": "stderr",
     "output_type": "stream",
     "text": [
      "2023-09-18 09:09:24.871856: I metal_plugin/src/device/metal_device.cc:1154] Metal device set to: Apple M1\n",
      "2023-09-18 09:09:24.871914: I metal_plugin/src/device/metal_device.cc:296] systemMemory: 16.00 GB\n",
      "2023-09-18 09:09:24.871929: I metal_plugin/src/device/metal_device.cc:313] maxCacheSize: 5.33 GB\n",
      "2023-09-18 09:09:24.872015: I tensorflow/core/common_runtime/pluggable_device/pluggable_device_factory.cc:303] Could not identify NUMA node of platform GPU ID 0, defaulting to 0. Your kernel may not have been built with NUMA support.\n",
      "2023-09-18 09:09:24.872054: I tensorflow/core/common_runtime/pluggable_device/pluggable_device_factory.cc:269] Created TensorFlow device (/job:localhost/replica:0/task:0/device:GPU:0 with 0 MB memory) -> physical PluggableDevice (device: 0, name: METAL, pci bus id: <undefined>)\n"
     ]
    }
   ],
   "source": [
    "cnn = Network(model = 'cnn', max_sequence_length=maxlen)\n",
    "print(cnn.model.summary())"
   ]
  },
  {
   "cell_type": "code",
   "execution_count": 28,
   "id": "474ff098",
   "metadata": {
    "scrolled": false
   },
   "outputs": [
    {
     "name": "stdout",
     "output_type": "stream",
     "text": [
      "Epoch 1/10\n"
     ]
    },
    {
     "name": "stderr",
     "output_type": "stream",
     "text": [
      "2023-09-18 09:09:25.946185: I tensorflow/core/grappler/optimizers/custom_graph_optimizer_registry.cc:114] Plugin optimizer for device_type GPU is enabled.\n"
     ]
    },
    {
     "name": "stdout",
     "output_type": "stream",
     "text": [
      "29/29 [==============================] - ETA: 0s - loss: 1.0819 - accuracy: 0.9385"
     ]
    },
    {
     "name": "stderr",
     "output_type": "stream",
     "text": [
      "2023-09-18 09:09:44.932484: I tensorflow/core/grappler/optimizers/custom_graph_optimizer_registry.cc:114] Plugin optimizer for device_type GPU is enabled.\n"
     ]
    },
    {
     "name": "stdout",
     "output_type": "stream",
     "text": [
      "29/29 [==============================] - 19s 655ms/step - loss: 1.0819 - accuracy: 0.9385 - val_loss: 0.9062 - val_accuracy: 0.9538\n",
      "Epoch 2/10\n",
      "29/29 [==============================] - 8s 289ms/step - loss: 0.7002 - accuracy: 0.9549 - val_loss: 0.7029 - val_accuracy: 0.9538\n",
      "Epoch 3/10\n",
      "29/29 [==============================] - 2s 73ms/step - loss: 0.5159 - accuracy: 0.9593 - val_loss: 0.5377 - val_accuracy: 0.9641\n",
      "Epoch 4/10\n",
      "29/29 [==============================] - 2s 72ms/step - loss: 0.4094 - accuracy: 0.9670 - val_loss: 0.4539 - val_accuracy: 0.9641\n",
      "Epoch 5/10\n",
      "29/29 [==============================] - 2s 72ms/step - loss: 0.3322 - accuracy: 0.9637 - val_loss: 0.4128 - val_accuracy: 0.9641\n",
      "Epoch 6/10\n",
      "29/29 [==============================] - 2s 72ms/step - loss: 0.2847 - accuracy: 0.9758 - val_loss: 0.3730 - val_accuracy: 0.9641\n",
      "Epoch 7/10\n",
      "29/29 [==============================] - 8s 268ms/step - loss: 0.2405 - accuracy: 0.9626 - val_loss: 0.3505 - val_accuracy: 0.9641\n",
      "Epoch 8/10\n",
      "29/29 [==============================] - 2s 72ms/step - loss: 0.1985 - accuracy: 0.9758 - val_loss: 0.3421 - val_accuracy: 0.9590\n",
      "Epoch 9/10\n",
      "29/29 [==============================] - 7s 261ms/step - loss: 0.1585 - accuracy: 0.9560 - val_loss: 0.3371 - val_accuracy: 0.9590\n",
      "Epoch 10/10\n",
      "29/29 [==============================] - 2s 72ms/step - loss: 0.1407 - accuracy: 0.9242 - val_loss: 0.3395 - val_accuracy: 0.9590\n"
     ]
    }
   ],
   "source": [
    "# Train the CNN model\n",
    "early_stopping = EarlyStopping(\n",
    "    monitor='val_loss',  # Monitors the loss on the validation set\n",
    "    patience=5,  # Number of epochs with no improvement before stopping\n",
    "    verbose=1,\n",
    "    restore_best_weights=True  # Restores the model's weights with the best validation loss\n",
    ")\n",
    "cnn_history = cnn.model.fit(X_train_cnn, y_train_cnn, epochs=10, batch_size = 32, validation_data=(X_val_cnn, y_val_cnn), class_weight=class_weights, callbacks=[early_stopping])"
   ]
  },
  {
   "cell_type": "code",
   "execution_count": 29,
   "id": "4116ce08",
   "metadata": {},
   "outputs": [
    {
     "data": {
      "image/png": "[encoded data removed]",
      "text/plain": [
       "<Figure size 1500x500 with 2 Axes>"
      ]
     },
     "metadata": {},
     "output_type": "display_data"
    }
   ],
   "source": [
    "fig3, axe1 = plt.subplots(nrows=1, ncols=2, figsize=(15,5))\n",
    "axe1[0].plot(cnn_history.history[\"accuracy\"],label=\"Training Accuracy\",color=\"blue\")\n",
    "axe1[0].plot(cnn_history.history[\"val_accuracy\"],label=\"Validation Accuracy\",color=\"orange\")\n",
    "axe1[1].plot(cnn_history.history[\"loss\"],label=\"Training Loss\",color=\"blue\")\n",
    "axe1[1].plot(cnn_history.history[\"val_loss\"],label=\"Validation Loss\",color=\"orange\")\n",
    "axe1[0].title.set_text(\"CNN Accuracy\")\n",
    "axe1[1].title.set_text(\"CNN Loss\")\n",
    "axe1[0].legend(['Training Accuracy', 'Validation Accuracy'])\n",
    "axe1[1].legend(['Training Loss', 'Validation Loss'])\n",
    "axe1[0].set_xlabel(\"Epoch\")\n",
    "axe1[1].set_xlabel(\"Epoch\")\n",
    "axe1[0].set_ylabel(\"Rate\")\n",
    "plt.show()"
   ]
  },
  {
   "cell_type": "markdown",
   "id": "3e818718",
   "metadata": {},
   "source": [
    "### Model Evaluation\n",
    "\n",
    "#### Evaluating the model on the validation and test data"
   ]
  },
  {
   "cell_type": "code",
   "execution_count": 30,
   "id": "6fe02130",
   "metadata": {},
   "outputs": [],
   "source": [
    "class ModelEvaluator:\n",
    "    \"\"\"\n",
    "    This class provides methods for evaluating a multilabel classification model.\n",
    "\n",
    "    Parameters\n",
    "    ----------\n",
    "    model : keras.models.Model\n",
    "        The trained multilabel classification model.\n",
    "    X_eval : array-like\n",
    "        The evaluation input data.\n",
    "    y_eval : array-like\n",
    "        The ground truth labels for the evaluation data.\n",
    "    classes : list\n",
    "        The list of class names or labels.\n",
    "\n",
    "    Attributes\n",
    "    ----------\n",
    "    y_pred : array-like\n",
    "        The model's predicted labels for the evaluation data.\n",
    "    y_true : array-like\n",
    "        The ground truth labels for the evaluation data.\n",
    "    model : keras.models.Model\n",
    "        The trained multilabel classification model.\n",
    "    X_eval : array-like\n",
    "        The evaluation input data.\n",
    "    classes : list\n",
    "        The list of class labels.\n",
    "    \"\"\"\n",
    "    def __init__(self, model, X_eval, y_eval , classes):\n",
    "        # validating the model\n",
    "        self.y_pred = model.predict(X_eval)\n",
    "        self.y_true = y_eval\n",
    "        self.model = model\n",
    "        self.X_eval = X_eval\n",
    "        self.classes = classes\n",
    "        \n",
    "        # Threshold the predictions\n",
    "        self.y_pred[self.y_pred >= 0.5] = 1\n",
    "        self.y_pred[self.y_pred < 0.5] = 0\n",
    "        \n",
    "    def evaluate_model(self):\n",
    "        \"\"\"\n",
    "        Evaluate the multilabel classification model on the evaluation data.\n",
    "\n",
    "        Returns\n",
    "        -------\n",
    "        evaluation_results : list\n",
    "            A list of evaluation results including loss and accuracy.\n",
    "        \"\"\"\n",
    "        return self.model.evaluate(self.X_eval, self.y_true)\n",
    "    \n",
    "    def classification_report(self):\n",
    "        \"\"\"\n",
    "        Generate a classification report, including precision, recall, and F1-score.\n",
    "\n",
    "        Returns\n",
    "        -------\n",
    "        class_report : str\n",
    "            The classification report as a formatted string.\n",
    "        \"\"\"\n",
    "        return classification_report(self.y_true, self.y_pred, target_names=self.classes)\n",
    "    \n",
    "    def format_confusion_matrix(self, matrix):\n",
    "        \"\"\"\n",
    "        Format the confusion matrix for better readability.\n",
    "\n",
    "        Parameters\n",
    "        ----------\n",
    "        matrix : array\n",
    "            The confusion matrix to be formatted.\n",
    "\n",
    "        Returns\n",
    "        -------\n",
    "        formatted_matrix : str\n",
    "            The formatted confusion matrix as a string.\n",
    "        \"\"\"\n",
    "        TP, FP, FN, TN = matrix.ravel()\n",
    "        return f\"        Actual 1    Actual 0\\nPredicted 1:   {TP}         {FP}\\nPredicted 0:   {FN}         {TN}\"\n",
    "\n",
    "    def confusion_matrix(self):\n",
    "        \"\"\"\n",
    "        Compute and return confusion matrices for each output.\n",
    "\n",
    "        Returns\n",
    "        -------\n",
    "        cm_output_1 : str\n",
    "            The formatted confusion matrix for the first output.\n",
    "        cm_output_2 : str\n",
    "            The formatted confusion matrix for the second output.\n",
    "        \"\"\"\n",
    "        \n",
    "        confusion_matrix_output_1 = confusion_matrix(self.y_true[:, 0], self.y_pred[:, 0])\n",
    "\n",
    "        \n",
    "        confusion_matrix_output_2 = confusion_matrix(self.y_true[:, 1], self.y_pred[:, 1])\n",
    "        \n",
    "        return self.format_confusion_matrix(confusion_matrix_output_1), self.format_confusion_matrix(confusion_matrix_output_2)\n",
    "\n",
    "    def accuracy(self):\n",
    "        \"\"\"\n",
    "        Compute the accuracy score for the model's predictions.\n",
    "\n",
    "        Returns\n",
    "        -------\n",
    "        accuracy_score : float\n",
    "            The accuracy score.\n",
    "        \"\"\"\n",
    "        return accuracy_score(self.y_true, self.y_pred)\n",
    "\n",
    "    def precision(self):\n",
    "        \"\"\"\n",
    "        Compute the precision score for the model's predictions.\n",
    "\n",
    "        Returns\n",
    "        -------\n",
    "        precision_score : float\n",
    "            The precision score.\n",
    "        \"\"\"\n",
    "        return precision_score(self.y_true, self.y_pred, average='macro')\n",
    "\n",
    "    def recall(self):\n",
    "        \"\"\"\n",
    "        Compute the recall score for the model's predictions.\n",
    "\n",
    "        Returns\n",
    "        -------\n",
    "        recall_score : float\n",
    "            The recall score.\n",
    "        \"\"\"\n",
    "        return recall_score(self.y_true, self.y_pred, average='macro')\n",
    "\n",
    "    def f1_score(self):\n",
    "        \"\"\"\n",
    "        Compute the F1-score for the model's predictions.\n",
    "\n",
    "        Returns\n",
    "        -------\n",
    "        f1_score : float\n",
    "            The F1-score.\n",
    "        \"\"\"\n",
    "        return f1_score(self.y_true, self.y_pred, average='macro')"
   ]
  },
  {
   "cell_type": "code",
   "execution_count": 31,
   "id": "754094c7",
   "metadata": {},
   "outputs": [
    {
     "name": "stdout",
     "output_type": "stream",
     "text": [
      "Evaluate the Logistic Regression model on the test data\n",
      "Accuracy: 76.92%\n",
      "Precision: 0.81\n",
      "Recall: 0.85\n",
      "F1 Score: 0.83\n",
      "              precision    recall  f1-score   support\n",
      "\n",
      "           0       0.98      0.96      0.97       192\n",
      "           1       0.65      0.73      0.68        55\n",
      "\n",
      "   micro avg       0.90      0.91      0.91       247\n",
      "   macro avg       0.81      0.85      0.83       247\n",
      "weighted avg       0.91      0.91      0.91       247\n",
      " samples avg       0.93      0.94      0.92       247\n",
      "\n",
      "        Actual 1    Actual 0\n",
      "Predicted 1:   0         3\n",
      "Predicted 0:   7         185\n",
      "        Actual 1    Actual 0\n",
      "Predicted 1:   118         22\n",
      "Predicted 0:   15         40\n"
     ]
    },
    {
     "name": "stderr",
     "output_type": "stream",
     "text": [
      "/Users/claesia/hiring_task_env/lib/python3.9/site-packages/sklearn/metrics/_classification.py:1469: UndefinedMetricWarning: Precision and F-score are ill-defined and being set to 0.0 in samples with no predicted labels. Use `zero_division` parameter to control this behavior.\n",
      "  _warn_prf(average, modifier, msg_start, len(result))\n"
     ]
    }
   ],
   "source": [
    "print(\"Evaluate the Logistic Regression model on the test data\")\n",
    "evaluator = ModelEvaluator(logistic_r_classifier, X_test, y_test, list(map(str,mlb.classes_)))\n",
    "# evaluation metrics\n",
    "print(\"Accuracy: {:.2f}%\".format(evaluator.accuracy() * 100))\n",
    "print(\"Precision: {:.2f}\".format(evaluator.precision()))\n",
    "print(\"Recall: {:.2f}\".format(evaluator.recall()))\n",
    "print(\"F1 Score: {:.2f}\".format(evaluator.f1_score()))\n",
    "print(evaluator.classification_report())\n",
    "val, test = evaluator.confusion_matrix()\n",
    "print(val)\n",
    "print(test)"
   ]
  },
  {
   "cell_type": "code",
   "execution_count": 32,
   "id": "e4b3cc75",
   "metadata": {},
   "outputs": [
    {
     "name": "stdout",
     "output_type": "stream",
     "text": [
      "Evaluate the RandomForest model on the test data\n",
      "Accuracy: 77.95%\n",
      "Precision: 0.86\n",
      "Recall: 0.71\n",
      "F1 Score: 0.76\n",
      "              precision    recall  f1-score   support\n",
      "\n",
      "           0       0.98      0.99      0.99       192\n",
      "           1       0.74      0.42      0.53        55\n",
      "\n",
      "   micro avg       0.95      0.87      0.91       247\n",
      "   macro avg       0.86      0.71      0.76       247\n",
      "weighted avg       0.93      0.87      0.89       247\n",
      " samples avg       0.97      0.91      0.92       247\n",
      "\n",
      "        Actual 1    Actual 0\n",
      "Predicted 1:   0         3\n",
      "Predicted 0:   1         191\n",
      "        Actual 1    Actual 0\n",
      "Predicted 1:   132         8\n",
      "Predicted 0:   32         23\n"
     ]
    }
   ],
   "source": [
    "print(\"Evaluate the RandomForest model on the test data\")\n",
    "evaluator = ModelEvaluator(random_f_classifier, X_test, y_test, list(map(str,mlb.classes_)))\n",
    "# evaluation metrics\n",
    "print(\"Accuracy: {:.2f}%\".format(evaluator.accuracy() * 100))\n",
    "print(\"Precision: {:.2f}\".format(evaluator.precision()))\n",
    "print(\"Recall: {:.2f}\".format(evaluator.recall()))\n",
    "print(\"F1 Score: {:.2f}\".format(evaluator.f1_score()))\n",
    "print(evaluator.classification_report())\n",
    "val, test = evaluator.confusion_matrix()\n",
    "print(val)\n",
    "print(test)"
   ]
  },
  {
   "cell_type": "code",
   "execution_count": 33,
   "id": "c03ed630",
   "metadata": {
    "scrolled": false
   },
   "outputs": [
    {
     "name": "stdout",
     "output_type": "stream",
     "text": [
      "Evaluate the CNN model on the test data\n",
      "4/7 [================>.............] - ETA: 0s"
     ]
    },
    {
     "name": "stderr",
     "output_type": "stream",
     "text": [
      "2023-09-18 09:10:21.107023: I tensorflow/core/grappler/optimizers/custom_graph_optimizer_registry.cc:114] Plugin optimizer for device_type GPU is enabled.\n"
     ]
    },
    {
     "name": "stdout",
     "output_type": "stream",
     "text": [
      "7/7 [==============================] - 0s 21ms/step\n",
      "Accuracy: 74.36%\n",
      "Precision: 0.80\n",
      "Recall: 0.70\n",
      "F1 Score: 0.74\n",
      "              precision    recall  f1-score   support\n",
      "\n",
      "           0       0.98      0.99      0.99       192\n",
      "           1       0.61      0.40      0.48        55\n",
      "\n",
      "   micro avg       0.93      0.86      0.89       247\n",
      "   macro avg       0.80      0.70      0.74       247\n",
      "weighted avg       0.90      0.86      0.88       247\n",
      " samples avg       0.95      0.91      0.91       247\n",
      "\n",
      "7/7 [==============================] - 0s 20ms/step - loss: 0.3103 - accuracy: 0.9692\n",
      "[0.3102671205997467, 0.9692307710647583]\n",
      "        Actual 1    Actual 0\n",
      "Predicted 1:   0         3\n",
      "Predicted 0:   1         191\n",
      "        Actual 1    Actual 0\n",
      "Predicted 1:   126         14\n",
      "Predicted 0:   33         22\n"
     ]
    }
   ],
   "source": [
    "print(\"Evaluate the CNN model on the test data\")\n",
    "evaluator = ModelEvaluator(cnn.model, X_test_cnn, y_test_cnn, list(map(str,mlb.classes_)))\n",
    "# evaluation metrics\n",
    "print(\"Accuracy: {:.2f}%\".format(evaluator.accuracy() * 100))\n",
    "print(\"Precision: {:.2f}\".format(evaluator.precision()))\n",
    "print(\"Recall: {:.2f}\".format(evaluator.recall()))\n",
    "print(\"F1 Score: {:.2f}\".format(evaluator.f1_score()))\n",
    "print(evaluator.classification_report())\n",
    "print(evaluator.evaluate_model())\n",
    "val, test = evaluator.confusion_matrix()\n",
    "print(val)\n",
    "print(test)"
   ]
  },
  {
   "cell_type": "markdown",
   "id": "0ca8d46b",
   "metadata": {},
   "source": [
    "#### Based on these metrics, the RandomForest model appears to have the best performance in terms of accuracy and precision. However, the Logistic Regression model has a high recall score. The CNN model also shows reasonable performance but benefit from further improvement/adjustemnt."
   ]
  },
  {
   "cell_type": "markdown",
   "id": "f6eb6508",
   "metadata": {},
   "source": [
    "### Run on test dataset"
   ]
  },
  {
   "cell_type": "code",
   "execution_count": 49,
   "id": "a23f758d",
   "metadata": {},
   "outputs": [],
   "source": [
    "# Load and preprocess the test dataset\n",
    "test_data = pd.read_csv('test.csv', index_col=[0])\n",
    "test_data['content_preprocessed'] = test_data['content'].apply(preprocess_text)\n",
    "\n",
    "# Tokenization and padding for CNN model\n",
    "tokenizer = Tokenizer(num_words=5000)  # Keep the same max_features as TF-IDF\n",
    "tokenizer.fit_on_texts(test_data['content_preprocessed'])\n",
    "X_test_cnn = tokenizer.texts_to_sequences(test_data['content_preprocessed'])\n",
    "X_test_cnn = pad_sequences(X_test_cnn, maxlen=maxlen)"
   ]
  },
  {
   "cell_type": "code",
   "execution_count": 50,
   "id": "1b1223eb",
   "metadata": {},
   "outputs": [
    {
     "name": "stdout",
     "output_type": "stream",
     "text": [
      "5/5 [==============================] - 0s 23ms/step\n"
     ]
    }
   ],
   "source": [
    "\n",
    "predictions = cnn.model.predict(X_test_cnn)"
   ]
  },
  {
   "cell_type": "markdown",
   "id": "7c5ba31b",
   "metadata": {},
   "source": [
    "##### The test.csv dataset is unlabelled, which means that in order to assess the performance of a model on this dataset, it would require a process of human labelling. Another possible approach is to treat it as an anomaly detection problem. Here, the model is trained to distinguish between the data it was trained on (considered 'normal') and the unlabelled test data, which might contain anomalies or deviations.\n",
    "\n",
    "##### Alternatively, semi-supervised learning can be explored, it is a technique that combines both labeled and unlabeled data during training. Labeled data provides information about the relationship between input and output variables, while the unlabeled data helps capture the underlying data structure. This approach can be particularly useful when obtaining labels for the entire test dataset is challenging or costly.\""
   ]
  },
  {
   "cell_type": "code",
   "execution_count": 51,
   "id": "1f50f6a7",
   "metadata": {},
   "outputs": [
    {
     "data": {
      "text/html": [
       "<div>\n",
       "<style scoped>\n",
       "    .dataframe tbody tr th:only-of-type {\n",
       "        vertical-align: middle;\n",
       "    }\n",
       "\n",
       "    .dataframe tbody tr th {\n",
       "        vertical-align: top;\n",
       "    }\n",
       "\n",
       "    .dataframe thead th {\n",
       "        text-align: right;\n",
       "    }\n",
       "</style>\n",
       "<table border=\"1\" class=\"dataframe\">\n",
       "  <thead>\n",
       "    <tr style=\"text-align: right;\">\n",
       "      <th></th>\n",
       "      <th>content</th>\n",
       "      <th>content_preprocessed</th>\n",
       "    </tr>\n",
       "  </thead>\n",
       "  <tbody>\n",
       "    <tr>\n",
       "      <th>0</th>\n",
       "      <td>More recently there has been a focus on risks ...</td>\n",
       "      <td>recently focus risk pollution plastic litter d...</td>\n",
       "    </tr>\n",
       "    <tr>\n",
       "      <th>1</th>\n",
       "      <td>Energy crisis ↑\\n3. Business interruption ↓\\n\\...</td>\n",
       "      <td>energy crisis business interruption impact ene...</td>\n",
       "    </tr>\n",
       "    <tr>\n",
       "      <th>2</th>\n",
       "      <td>The survey results indicate that a lack of ski...</td>\n",
       "      <td>survey result indicate lack skilled talent ava...</td>\n",
       "    </tr>\n",
       "    <tr>\n",
       "      <th>3</th>\n",
       "      <td>Respondents could\\nselect more than one risk.0...</td>\n",
       "      <td>respondent could select one 10 20 30 40 50 70 ...</td>\n",
       "    </tr>\n",
       "    <tr>\n",
       "      <th>4</th>\n",
       "      <td>The interest payable on\\nthe country's public ...</td>\n",
       "      <td>interest payable country public debt expected ...</td>\n",
       "    </tr>\n",
       "  </tbody>\n",
       "</table>\n",
       "</div>"
      ],
      "text/plain": [
       "                                             content  \\\n",
       "0  More recently there has been a focus on risks ...   \n",
       "1  Energy crisis ↑\\n3. Business interruption ↓\\n\\...   \n",
       "2  The survey results indicate that a lack of ski...   \n",
       "3  Respondents could\\nselect more than one risk.0...   \n",
       "4  The interest payable on\\nthe country's public ...   \n",
       "\n",
       "                                content_preprocessed  \n",
       "0  recently focus risk pollution plastic litter d...  \n",
       "1  energy crisis business interruption impact ene...  \n",
       "2  survey result indicate lack skilled talent ava...  \n",
       "3  respondent could select one 10 20 30 40 50 70 ...  \n",
       "4  interest payable country public debt expected ...  "
      ]
     },
     "execution_count": 51,
     "metadata": {},
     "output_type": "execute_result"
    }
   ],
   "source": [
    "test_data.head()"
   ]
  },
  {
   "cell_type": "code",
   "execution_count": null,
   "id": "c5096be4",
   "metadata": {},
   "outputs": [],
   "source": []
  },
  {
   "cell_type": "code",
   "execution_count": null,
   "id": "393d0116",
   "metadata": {},
   "outputs": [],
   "source": []
  },
  {
   "cell_type": "code",
   "execution_count": null,
   "id": "da088f23",
   "metadata": {},
   "outputs": [],
   "source": []
  },
  {
   "cell_type": "code",
   "execution_count": null,
   "id": "f4276479",
   "metadata": {},
   "outputs": [],
   "source": []
  },
  {
   "cell_type": "code",
   "execution_count": null,
   "id": "1bda5e0c",
   "metadata": {},
   "outputs": [],
   "source": []
  },
  {
   "cell_type": "code",
   "execution_count": null,
   "id": "7022e62f",
   "metadata": {},
   "outputs": [],
   "source": []
  },
  {
   "cell_type": "code",
   "execution_count": null,
   "id": "1c9c066c",
   "metadata": {},
   "outputs": [],
   "source": []
  },
  {
   "cell_type": "code",
   "execution_count": null,
   "id": "1dea2ecf",
   "metadata": {},
   "outputs": [],
   "source": []
  },
  {
   "cell_type": "code",
   "execution_count": null,
   "id": "ba1c8e9e",
   "metadata": {},
   "outputs": [],
   "source": []
  },
  {
   "cell_type": "code",
   "execution_count": null,
   "id": "23a3b508",
   "metadata": {},
   "outputs": [],
   "source": []
  },
  {
   "cell_type": "code",
   "execution_count": null,
   "id": "e9a63410",
   "metadata": {},
   "outputs": [],
   "source": []
  },
  {
   "cell_type": "code",
   "execution_count": null,
   "id": "586e29a8",
   "metadata": {},
   "outputs": [],
   "source": []
  },
  {
   "cell_type": "code",
   "execution_count": null,
   "id": "0fe19b0c",
   "metadata": {},
   "outputs": [],
   "source": []
  },
  {
   "cell_type": "code",
   "execution_count": null,
   "id": "b70cfbb0",
   "metadata": {},
   "outputs": [],
   "source": []
  },
  {
   "cell_type": "code",
   "execution_count": null,
   "id": "4d947caa",
   "metadata": {},
   "outputs": [],
   "source": []
  },
  {
   "cell_type": "code",
   "execution_count": null,
   "id": "9c11a58f",
   "metadata": {},
   "outputs": [],
   "source": []
  },
  {
   "cell_type": "code",
   "execution_count": null,
   "id": "ceff5832",
   "metadata": {},
   "outputs": [],
   "source": []
  },
  {
   "cell_type": "code",
   "execution_count": null,
   "id": "c11c6229",
   "metadata": {},
   "outputs": [],
   "source": []
  },
  {
   "cell_type": "code",
   "execution_count": null,
   "id": "5628c367",
   "metadata": {},
   "outputs": [],
   "source": []
  },
  {
   "cell_type": "code",
   "execution_count": null,
   "id": "0d37ba10",
   "metadata": {},
   "outputs": [],
   "source": []
  },
  {
   "cell_type": "code",
   "execution_count": null,
   "id": "16bae88b",
   "metadata": {},
   "outputs": [],
   "source": []
  },
  {
   "cell_type": "code",
   "execution_count": null,
   "id": "f9a74499",
   "metadata": {},
   "outputs": [],
   "source": []
  },
  {
   "cell_type": "code",
   "execution_count": null,
   "id": "efec0ef6",
   "metadata": {},
   "outputs": [],
   "source": []
  },
  {
   "cell_type": "code",
   "execution_count": null,
   "id": "bd9b68a9",
   "metadata": {},
   "outputs": [],
   "source": []
  },
  {
   "cell_type": "code",
   "execution_count": null,
   "id": "2e4c3f2a",
   "metadata": {},
   "outputs": [],
   "source": []
  }
 ],
 "metadata": {
  "kernelspec": {
   "display_name": "hiring_task_env",
   "language": "python",
   "name": "hiring_task_env"
  },
  "language_info": {
   "codemirror_mode": {
    "name": "ipython",
    "version": 3
   },
   "file_extension": ".py",
   "mimetype": "text/x-python",
   "name": "python",
   "nbconvert_exporter": "python",
   "pygments_lexer": "ipython3",
   "version": "3.9.9"
  }
 },
 "nbformat": 4,
 "nbformat_minor": 5
}
